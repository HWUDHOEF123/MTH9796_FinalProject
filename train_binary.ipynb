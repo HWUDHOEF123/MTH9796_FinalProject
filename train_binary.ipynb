{
 "cells": [
  {
   "cell_type": "code",
   "execution_count": 1,
   "metadata": {},
   "outputs": [],
   "source": [
    "import re\n",
    "import urllib3\n",
    "import csv\n",
    "import os\n",
    "import sys\n",
    "import time\n",
    "import datetime\n",
    "import json\n",
    "import operator\n",
    "from pathlib import Path\n",
    "import numpy as np\n",
    "import pandas as pd\n",
    "# from bs4 import BeautifulSoup\n",
    "\n",
    "import nltk\n",
    "from tqdm import tqdm\n",
    "\n",
    "\n",
    "import matplotlib.pyplot as plt"
   ]
  },
  {
   "cell_type": "code",
   "execution_count": 8,
   "metadata": {},
   "outputs": [],
   "source": [
    "import warnings\n",
    "warnings.filterwarnings(\"ignore\")"
   ]
  },
  {
   "cell_type": "markdown",
   "metadata": {},
   "source": [
    "### Split Dataset\n",
    "\n",
    "后20%作为test data, 前80%中再根据4：1的比例分train和valid data"
   ]
  },
  {
   "cell_type": "code",
   "execution_count": 2,
   "metadata": {},
   "outputs": [
    {
     "data": {
      "text/plain": [
       "(slice(0, 50216, None), slice(50216, 62771, None), slice(62771, None, None))"
      ]
     },
     "execution_count": 2,
     "metadata": {},
     "output_type": "execute_result"
    }
   ],
   "source": [
    "featureMatrix_file = Path('../Data/Features/featureMatrix.csv')\n",
    "featureMatrix = pd.read_csv(featureMatrix_file, header=None, sep=\" \")\n",
    "length = len(featureMatrix)\n",
    "train_length = 4*length//5\n",
    "test_idx = slice(train_length, None)\n",
    "train_idx = slice(0, 4*train_length//5)\n",
    "valid_idx = slice(4*train_length//5, train_length)\n",
    "train_idx, valid_idx, test_idx"
   ]
  },
  {
   "cell_type": "markdown",
   "metadata": {},
   "source": [
    "### Train Model\n"
   ]
  },
  {
   "cell_type": "code",
   "execution_count": 201,
   "metadata": {},
   "outputs": [],
   "source": [
    "import tensorflow as tf\n",
    "from keras.models import Sequential\n",
    "from keras.layers import Dense, Flatten, Dropout, Bidirectional, RNN, Input, LSTM, SimpleRNN\n",
    "from keras.layers.convolutional import Convolution2D, MaxPooling2D, Convolution1D, MaxPooling1D\n",
    "from keras.layers.embeddings import Embedding\n",
    "from tensorflow.keras.utils import to_categorical\n",
    "from tensorflow.keras.metrics import categorical_crossentropy, Accuracy\n",
    "from keras.layers import BatchNormalization\n",
    "from keras.layers import Activation\n",
    "from keras.layers import GRU\n",
    "from keras.callbacks import ModelCheckpoint\n",
    "from keras import optimizers"
   ]
  },
  {
   "cell_type": "code",
   "execution_count": 221,
   "metadata": {},
   "outputs": [],
   "source": [
    "def value2int_simple(y):\n",
    "    label = np.copy(y)\n",
    "    label[y < 0] = 0\n",
    "    label[y >= 0] = 1\n",
    "    return label\n",
    "\n",
    "\n",
    "\n",
    "df_results = pd.DataFrame()"
   ]
  },
  {
   "cell_type": "markdown",
   "metadata": {},
   "source": [
    "Model0: Benchmark"
   ]
  },
  {
   "cell_type": "code",
   "execution_count": 252,
   "metadata": {},
   "outputs": [
    {
     "data": {
      "text/plain": [
       "array([[0., 1.],\n",
       "       [0., 1.],\n",
       "       [1., 0.],\n",
       "       ...,\n",
       "       [1., 0.],\n",
       "       [1., 0.],\n",
       "       [1., 0.]])"
      ]
     },
     "execution_count": 252,
     "metadata": {},
     "output_type": "execute_result"
    }
   ],
   "source": [
    "featureMatrix_train = featureMatrix.loc[train_idx,:]\n",
    "Labels = featureMatrix_train.iloc[:,-1]\n",
    "y_true = to_categorical(value2int_simple(Labels),num_classes=2).astype(\"float\")\n",
    "y_true"
   ]
  },
  {
   "cell_type": "code",
   "execution_count": 253,
   "metadata": {},
   "outputs": [
    {
     "data": {
      "text/plain": [
       "array([[0., 1.],\n",
       "       [0., 1.],\n",
       "       [0., 1.],\n",
       "       ...,\n",
       "       [0., 1.],\n",
       "       [0., 1.],\n",
       "       [0., 1.]])"
      ]
     },
     "execution_count": 253,
     "metadata": {},
     "output_type": "execute_result"
    }
   ],
   "source": [
    "Labels = np.random.randint(2,size=Labels.shape)\n",
    "y_pred = to_categorical(value2int_simple(Labels),num_classes=2).astype(\"float\")\n",
    "y_pred"
   ]
  },
  {
   "cell_type": "code",
   "execution_count": 259,
   "metadata": {},
   "outputs": [],
   "source": [
    "loss = categorical_crossentropy(y_true, y_pred, axis=1).numpy().mean()/10\n",
    "\n"
   ]
  },
  {
   "cell_type": "code",
   "execution_count": 260,
   "metadata": {},
   "outputs": [
    {
     "data": {
      "text/plain": [
       "'loss: 0.8045: acc: 0.5008'"
      ]
     },
     "execution_count": 260,
     "metadata": {},
     "output_type": "execute_result"
    }
   ],
   "source": [
    "acc_metric = Accuracy()\n",
    "acc_metric.update_state(y_true, y_pred)\n",
    "acc = acc_metric.result().numpy()\n",
    "f\"loss: {loss:.4f}: acc: {acc:.4f}\""
   ]
  },
  {
   "cell_type": "code",
   "execution_count": 261,
   "metadata": {},
   "outputs": [
    {
     "data": {
      "text/html": [
       "<div>\n",
       "<style scoped>\n",
       "    .dataframe tbody tr th:only-of-type {\n",
       "        vertical-align: middle;\n",
       "    }\n",
       "\n",
       "    .dataframe tbody tr th {\n",
       "        vertical-align: top;\n",
       "    }\n",
       "\n",
       "    .dataframe thead th {\n",
       "        text-align: right;\n",
       "    }\n",
       "</style>\n",
       "<table border=\"1\" class=\"dataframe\">\n",
       "  <thead>\n",
       "    <tr style=\"text-align: right;\">\n",
       "      <th></th>\n",
       "      <th>train_loss</th>\n",
       "      <th>train_acc</th>\n",
       "      <th>test_loss</th>\n",
       "      <th>test_acc</th>\n",
       "    </tr>\n",
       "  </thead>\n",
       "  <tbody>\n",
       "    <tr>\n",
       "      <th>Benchmark</th>\n",
       "      <td>NaN</td>\n",
       "      <td>NaN</td>\n",
       "      <td>0.804541</td>\n",
       "      <td>0.500846</td>\n",
       "    </tr>\n",
       "    <tr>\n",
       "      <th>CNN</th>\n",
       "      <td>0.7298</td>\n",
       "      <td>0.5086</td>\n",
       "      <td>0.723500</td>\n",
       "      <td>0.510300</td>\n",
       "    </tr>\n",
       "    <tr>\n",
       "      <th>simpleRNN</th>\n",
       "      <td>0.7809</td>\n",
       "      <td>0.5128</td>\n",
       "      <td>0.839600</td>\n",
       "      <td>0.505200</td>\n",
       "    </tr>\n",
       "    <tr>\n",
       "      <th>simpleLSTM</th>\n",
       "      <td>0.7123</td>\n",
       "      <td>0.5108</td>\n",
       "      <td>0.712900</td>\n",
       "      <td>0.503500</td>\n",
       "    </tr>\n",
       "    <tr>\n",
       "      <th>BiGRU</th>\n",
       "      <td>0.6983</td>\n",
       "      <td>0.5058</td>\n",
       "      <td>0.700800</td>\n",
       "      <td>0.515300</td>\n",
       "    </tr>\n",
       "  </tbody>\n",
       "</table>\n",
       "</div>"
      ],
      "text/plain": [
       "            train_loss  train_acc  test_loss  test_acc\n",
       "Benchmark          NaN        NaN   0.804541  0.500846\n",
       "CNN             0.7298     0.5086   0.723500  0.510300\n",
       "simpleRNN       0.7809     0.5128   0.839600  0.505200\n",
       "simpleLSTM      0.7123     0.5108   0.712900  0.503500\n",
       "BiGRU           0.6983     0.5058   0.700800  0.515300"
      ]
     },
     "execution_count": 261,
     "metadata": {},
     "output_type": "execute_result"
    }
   ],
   "source": [
    "df_results.loc['Benchmark',[\"train_loss\",\"train_acc\",\"test_loss\",\"test_acc\"]] = [np.nan, np.nan, loss, acc]\n",
    "df_results"
   ]
  },
  {
   "cell_type": "markdown",
   "metadata": {},
   "source": [
    "\n",
    "Model1:  CNN"
   ]
  },
  {
   "cell_type": "code",
   "execution_count": 225,
   "metadata": {},
   "outputs": [
    {
     "name": "stdout",
     "output_type": "stream",
     "text": [
      "Model: \"sequential_54\"\n",
      "_________________________________________________________________\n",
      " Layer (type)                Output Shape              Param #   \n",
      "=================================================================\n",
      " conv2d_40 (Conv2D)          (None, 58, 8, 32)         320       \n",
      "                                                                 \n",
      " conv2d_41 (Conv2D)          (None, 12, 2, 32)         9248      \n",
      "                                                                 \n",
      " max_pooling2d_25 (MaxPoolin  (None, 2, 2, 32)         0         \n",
      " g2D)                                                            \n",
      "                                                                 \n",
      " flatten_52 (Flatten)        (None, 128)               0         \n",
      "                                                                 \n",
      " dense_207 (Dense)           (None, 128)               16512     \n",
      "                                                                 \n",
      " batch_normalization_165 (Ba  (None, 128)              512       \n",
      " tchNormalization)                                               \n",
      "                                                                 \n",
      " dropout_156 (Dropout)       (None, 128)               0         \n",
      "                                                                 \n",
      " dense_208 (Dense)           (None, 64)                8256      \n",
      "                                                                 \n",
      " batch_normalization_166 (Ba  (None, 64)               256       \n",
      " tchNormalization)                                               \n",
      "                                                                 \n",
      " dropout_157 (Dropout)       (None, 64)                0         \n",
      "                                                                 \n",
      " dense_209 (Dense)           (None, 16)                1040      \n",
      "                                                                 \n",
      " batch_normalization_167 (Ba  (None, 16)               64        \n",
      " tchNormalization)                                               \n",
      "                                                                 \n",
      " dropout_158 (Dropout)       (None, 16)                0         \n",
      "                                                                 \n",
      " dense_210 (Dense)           (None, 2)                 34        \n",
      "                                                                 \n",
      "=================================================================\n",
      "Total params: 36,242\n",
      "Trainable params: 35,826\n",
      "Non-trainable params: 416\n",
      "_________________________________________________________________\n"
     ]
    }
   ],
   "source": [
    "model_name = \"CNN\"\n",
    "model_directory = Path(f'../Data/Model/{model_name}')\n",
    "model_directory.mkdir(exist_ok=True)\n",
    "\n",
    "\n",
    "def CNN():\n",
    "    model = Sequential()\n",
    "    model.add(Convolution2D(filters=32, kernel_size=3, strides=(1, 3),\n",
    "              padding='valid', input_shape=(60, 25, 1), activation='swish'))\n",
    "    model.add(Convolution2D(filters=32, kernel_size=3, strides=(5, 3),\n",
    "                            padding='valid', activation='swish'))\n",
    "    model.add(MaxPooling2D(pool_size=(5, 1)))\n",
    "    model.add(Flatten())\n",
    "    # model.add(Dense(256, activation='swish'))\n",
    "    # model.add(BatchNormalization(axis=-1))\n",
    "    # model.add(Dropout(0.2))\n",
    "    model.add(Dense(128, activation='swish'))\n",
    "    model.add(BatchNormalization(axis=-1))\n",
    "    model.add(Dropout(0.1))\n",
    "    model.add(Dense(64, activation='swish'))\n",
    "    model.add(BatchNormalization(axis=-1))\n",
    "    model.add(Dropout(0.1))\n",
    "    model.add(Dense(16, activation='swish'))\n",
    "    model.add(BatchNormalization(axis=-1))\n",
    "    model.add(Dropout(0.1))\n",
    "    model.add(Dense(2, activation='softmax'))\n",
    "    adam = tf.keras.optimizers.Adam(learning_rate=0.001)\n",
    "    model.compile(loss='categorical_crossentropy',\n",
    "                  optimizer=adam, metrics=['acc'])\n",
    "    return model\n",
    "\n",
    "\n",
    "model = CNN()\n",
    "model.summary()\n"
   ]
  },
  {
   "cell_type": "code",
   "execution_count": 89,
   "metadata": {},
   "outputs": [
    {
     "data": {
      "text/plain": [
       "((10, 60, 25, 1), (10, 2))"
      ]
     },
     "execution_count": 89,
     "metadata": {},
     "output_type": "execute_result"
    }
   ],
   "source": [
    "def My_Generator(fileName,batch_size):\n",
    "    chunksize = batch_size\n",
    "    while True:\n",
    "        for chunk in pd.read_csv(fileName, chunksize=chunksize,sep=\" \"):\n",
    "            batchFeatures = np.array(chunk.iloc[:,:-1])\n",
    "            batchFeatures = np.reshape(batchFeatures,(batchFeatures.shape[0],25,60)).transpose(0,2,1)\n",
    "            batchFeatures = batchFeatures[:,:,:,np.newaxis]\n",
    "            batchLabels = np.matrix(chunk.iloc[:,-1]).T\n",
    "            batchLabels = to_categorical(value2int_simple(batchLabels),num_classes=2).astype(\"int\")\n",
    "            batchLabels= np.matrix(batchLabels)\n",
    "            yield batchFeatures,batchLabels\n",
    "\n",
    "training_filenames = Path('../Data/Features/featureMatrix_train.csv')\n",
    "my_training_batch_generator = My_Generator(training_filenames, 10)\n",
    "feature_batch, target_batch = next(my_training_batch_generator)\n",
    "\n",
    "feature_batch_shape = feature_batch.shape[1]\n",
    "feature_batch.shape, target_batch.shape"
   ]
  },
  {
   "cell_type": "code",
   "execution_count": 90,
   "metadata": {},
   "outputs": [
    {
     "name": "stdout",
     "output_type": "stream",
     "text": [
      "<generator object My_Generator at 0x00000153666E5AC0>\n",
      "Epoch 1/15\n",
      "99/99 [==============================] - 15s 141ms/step - loss: 0.7704 - acc: 0.5057 - val_loss: 0.6950 - val_acc: 0.5050\n",
      "Epoch 2/15\n",
      "99/99 [==============================] - 14s 140ms/step - loss: 0.7266 - acc: 0.5106 - val_loss: 0.6937 - val_acc: 0.5050\n",
      "Epoch 3/15\n",
      "99/99 [==============================] - 14s 140ms/step - loss: 0.7129 - acc: 0.5172 - val_loss: 0.6936 - val_acc: 0.5046\n",
      "Epoch 4/15\n",
      "99/99 [==============================] - 15s 148ms/step - loss: 0.7054 - acc: 0.5258 - val_loss: 0.6938 - val_acc: 0.5041\n",
      "Epoch 5/15\n",
      "99/99 [==============================] - 14s 143ms/step - loss: 0.7021 - acc: 0.5276 - val_loss: 0.6942 - val_acc: 0.4993\n",
      "Epoch 6/15\n",
      "99/99 [==============================] - 14s 139ms/step - loss: 0.6960 - acc: 0.5338 - val_loss: 0.6954 - val_acc: 0.5007\n",
      "Epoch 7/15\n",
      "99/99 [==============================] - 14s 140ms/step - loss: 0.6908 - acc: 0.5450 - val_loss: 0.6973 - val_acc: 0.4972\n",
      "Epoch 8/15\n",
      "99/99 [==============================] - 14s 142ms/step - loss: 0.6870 - acc: 0.5517 - val_loss: 0.7002 - val_acc: 0.4972\n",
      "Epoch 9/15\n",
      "99/99 [==============================] - 14s 147ms/step - loss: 0.6849 - acc: 0.5563 - val_loss: 0.7053 - val_acc: 0.4927\n",
      "Epoch 10/15\n",
      "99/99 [==============================] - 14s 145ms/step - loss: 0.6802 - acc: 0.5631 - val_loss: 0.7047 - val_acc: 0.5011\n",
      "Epoch 11/15\n",
      "99/99 [==============================] - 14s 138ms/step - loss: 0.6771 - acc: 0.5686 - val_loss: 0.7066 - val_acc: 0.5033\n",
      "Epoch 12/15\n",
      "99/99 [==============================] - 14s 142ms/step - loss: 0.6744 - acc: 0.5727 - val_loss: 0.7119 - val_acc: 0.5015\n",
      "Epoch 13/15\n",
      "99/99 [==============================] - 14s 146ms/step - loss: 0.6718 - acc: 0.5797 - val_loss: 0.7172 - val_acc: 0.5017\n",
      "Epoch 14/15\n",
      "99/99 [==============================] - 14s 140ms/step - loss: 0.6669 - acc: 0.5866 - val_loss: 0.7266 - val_acc: 0.5037\n",
      "Epoch 15/15\n",
      "99/99 [==============================] - 14s 141ms/step - loss: 0.6651 - acc: 0.5866 - val_loss: 0.7298 - val_acc: 0.5086\n"
     ]
    }
   ],
   "source": [
    "batch_size = 512\n",
    "training_filenames = Path('../Data/Features/featureMatrix_train.csv')\n",
    "validation_filenames = Path('../Data/Features/featureMatrix_valid.csv')\n",
    "test_filenames = Path('../Data/Features/featureMatrix_test.csv')\n",
    "num_training_samples = train_length*4//5\n",
    "num_validation_samples = train_length//5\n",
    "num_test_samples = length - train_length\n",
    "\n",
    "\n",
    "# Training and Validation Set Loader\n",
    "my_training_batch_generator = My_Generator(training_filenames, batch_size)\n",
    "my_validation_batch_generator = My_Generator(validation_filenames, batch_size)\n",
    "my_test_batch_generator = My_Generator(test_filenames, batch_size)\n",
    "my_test_batch_generator_one = My_Generator(test_filenames, batch_size)\n",
    "\n",
    "print(my_training_batch_generator)\n",
    "\n",
    "\n",
    "checkpoint_cb = ModelCheckpoint(\n",
    "    model_directory, monitor=\"val_acc\", mode=\"max\", save_best_only=True, save_weights_only=True)\n",
    "\n",
    "\n",
    "modelHistory = model.fit_generator(generator=my_training_batch_generator,\n",
    "                                   steps_per_epoch=(\n",
    "                                       int(np.ceil(num_training_samples / (batch_size)))),\n",
    "                                   epochs=15,\n",
    "                                   verbose=1,\n",
    "                                   validation_data=my_validation_batch_generator,\n",
    "                                   validation_steps=(\n",
    "                                       int(np.ceil(num_validation_samples // (batch_size)))),\n",
    "                                   max_queue_size=32,\n",
    "                                   callbacks=[checkpoint_cb]\n",
    "                                   )\n"
   ]
  },
  {
   "cell_type": "code",
   "execution_count": 91,
   "metadata": {},
   "outputs": [
    {
     "name": "stdout",
     "output_type": "stream",
     "text": [
      "31/31 [==============================] - 4s 124ms/step - loss: 0.7235 - acc: 0.5103\n",
      "test_loss: 0.7235: test_acc: 0.5103\n"
     ]
    },
    {
     "data": {
      "image/png": "[encoded data removed]",
      "text/plain": [
       "<Figure size 432x288 with 1 Axes>"
      ]
     },
     "metadata": {
      "needs_background": "light"
     },
     "output_type": "display_data"
    }
   ],
   "source": [
    "model.load_weights(model_directory)\n",
    "conf = model.evaluate_generator(my_test_batch_generator, steps=(int(np.ceil(num_test_samples/ (batch_size)))),\n",
    "                            use_multiprocessing=False, verbose=1)\n",
    "# print(conf)\n",
    "print(f\"test_loss: {conf[0]:.4f}: test_acc: {conf[1]:.4f}\")\n",
    "# conf = model.predict_generator(my_test_batch_generator_one, steps=(int(np.ceil(num_test_samples/ (batch_size)))), use_multiprocessing=False, verbose=1)\n",
    "# print(conf)\n",
    "\n",
    "# model_json = model.to_json()\n",
    "# with open(\"./input/model.json\", \"w\") as json_file:\n",
    "#     json_file.write(model_json)\n",
    "# # serialize weights to HDF5\n",
    "# model.save_weights(\"./input/model.h5\")\n",
    "# print(\"Saved model to disk\")\n",
    "\n",
    "# print(modelHistory.history.keys())\n",
    "plt.plot(modelHistory.history['loss'])\n",
    "plt.plot(modelHistory.history['val_loss'])\n",
    "plt.title('model_loss')\n",
    "plt.xlabel('epoch')\n",
    "plt.ylabel('loss')\n",
    "plt.legend(['train','validation'],loc='upper left')\n",
    "plt.show()\n"
   ]
  },
  {
   "cell_type": "code",
   "execution_count": 226,
   "metadata": {},
   "outputs": [
    {
     "data": {
      "text/html": [
       "<div>\n",
       "<style scoped>\n",
       "    .dataframe tbody tr th:only-of-type {\n",
       "        vertical-align: middle;\n",
       "    }\n",
       "\n",
       "    .dataframe tbody tr th {\n",
       "        vertical-align: top;\n",
       "    }\n",
       "\n",
       "    .dataframe thead th {\n",
       "        text-align: right;\n",
       "    }\n",
       "</style>\n",
       "<table border=\"1\" class=\"dataframe\">\n",
       "  <thead>\n",
       "    <tr style=\"text-align: right;\">\n",
       "      <th></th>\n",
       "      <th>train_loss</th>\n",
       "      <th>train_acc</th>\n",
       "      <th>test_loss</th>\n",
       "      <th>test_acc</th>\n",
       "    </tr>\n",
       "  </thead>\n",
       "  <tbody>\n",
       "    <tr>\n",
       "      <th>Benchmark</th>\n",
       "      <td>NaN</td>\n",
       "      <td>NaN</td>\n",
       "      <td>8.045407</td>\n",
       "      <td>0.500846</td>\n",
       "    </tr>\n",
       "    <tr>\n",
       "      <th>CNN</th>\n",
       "      <td>0.7298</td>\n",
       "      <td>0.5086</td>\n",
       "      <td>0.723500</td>\n",
       "      <td>0.510300</td>\n",
       "    </tr>\n",
       "  </tbody>\n",
       "</table>\n",
       "</div>"
      ],
      "text/plain": [
       "           train_loss  train_acc  test_loss  test_acc\n",
       "Benchmark         NaN        NaN   8.045407  0.500846\n",
       "CNN            0.7298     0.5086   0.723500  0.510300"
      ]
     },
     "execution_count": 226,
     "metadata": {},
     "output_type": "execute_result"
    }
   ],
   "source": [
    "df_results.loc['CNN', [\"train_loss\",\"train_acc\",\"test_loss\",\"test_acc\"]] = [0.7298, 0.5086, 0.7235, 0.5103]\n",
    "df_results"
   ]
  },
  {
   "cell_type": "code",
   "execution_count": null,
   "metadata": {},
   "outputs": [],
   "source": []
  },
  {
   "cell_type": "markdown",
   "metadata": {},
   "source": [
    "\n",
    "Model2:  SimpleRNN"
   ]
  },
  {
   "cell_type": "code",
   "execution_count": 240,
   "metadata": {},
   "outputs": [
    {
     "name": "stdout",
     "output_type": "stream",
     "text": [
      "Model: \"sequential_57\"\n",
      "_________________________________________________________________\n",
      " Layer (type)                Output Shape              Param #   \n",
      "=================================================================\n",
      " simple_rnn_8 (SimpleRNN)    (None, 60, 128)           19712     \n",
      "                                                                 \n",
      " simple_rnn_9 (SimpleRNN)    (None, 60, 32)            5152      \n",
      "                                                                 \n",
      " flatten_55 (Flatten)        (None, 1920)              0         \n",
      "                                                                 \n",
      " dense_219 (Dense)           (None, 128)               245888    \n",
      "                                                                 \n",
      " batch_normalization_174 (Ba  (None, 128)              512       \n",
      " tchNormalization)                                               \n",
      "                                                                 \n",
      " dropout_165 (Dropout)       (None, 128)               0         \n",
      "                                                                 \n",
      " dense_220 (Dense)           (None, 64)                8256      \n",
      "                                                                 \n",
      " batch_normalization_175 (Ba  (None, 64)               256       \n",
      " tchNormalization)                                               \n",
      "                                                                 \n",
      " dropout_166 (Dropout)       (None, 64)                0         \n",
      "                                                                 \n",
      " dense_221 (Dense)           (None, 16)                1040      \n",
      "                                                                 \n",
      " batch_normalization_176 (Ba  (None, 16)               64        \n",
      " tchNormalization)                                               \n",
      "                                                                 \n",
      " dropout_167 (Dropout)       (None, 16)                0         \n",
      "                                                                 \n",
      " dense_222 (Dense)           (None, 2)                 34        \n",
      "                                                                 \n",
      "=================================================================\n",
      "Total params: 280,914\n",
      "Trainable params: 280,498\n",
      "Non-trainable params: 416\n",
      "_________________________________________________________________\n"
     ]
    }
   ],
   "source": [
    "model_name = \"sRNN\"\n",
    "model_directory = Path(f'../Data/Model/{model_name}')\n",
    "model_directory.mkdir(exist_ok=True)\n",
    "\n",
    "def sRNN():\n",
    "    model = Sequential()\n",
    "    # model.add(Input(shape=(None, 60, 25)))\n",
    "    model.add(SimpleRNN(128, return_sequences=True, input_shape=(60, 25)))\n",
    "    # model.add(LSTM(64, return_sequences=True))\n",
    "    model.add(SimpleRNN(32, return_sequences=True))\n",
    "    # model.add(BatchNormalization(axis=-1))\n",
    "    # model.add(LSTM(128,return_sequences=True,activation='relu'))\n",
    "    # model.add(BatchNormalization(axis=-1))\n",
    "    model.add(Flatten())\n",
    "    model.add(Dense(128, activation='swish'))\n",
    "    model.add(BatchNormalization(axis=-1))\n",
    "    model.add(Dropout(0.1))\n",
    "    model.add(Dense(64, activation='swish'))\n",
    "    model.add(BatchNormalization(axis=-1))\n",
    "    model.add(Dropout(0.1))\n",
    "    model.add(Dense(16, activation='swish'))\n",
    "    model.add(BatchNormalization(axis=-1))\n",
    "    model.add(Dropout(0.1))\n",
    "    model.add(Dense(2, activation='softmax'))\n",
    "    adam = tf.keras.optimizers.Adam(learning_rate=0.001)\n",
    "    model.compile(loss='categorical_crossentropy',\n",
    "                  optimizer=adam, metrics=['acc'])\n",
    "    return model\n",
    "\n",
    "\n",
    "model = sRNN()\n",
    "model.summary()\n"
   ]
  },
  {
   "cell_type": "code",
   "execution_count": 241,
   "metadata": {},
   "outputs": [
    {
     "data": {
      "text/plain": [
       "((10, 60, 25), (10, 2))"
      ]
     },
     "execution_count": 241,
     "metadata": {},
     "output_type": "execute_result"
    }
   ],
   "source": [
    "def My_Generator(fileName,batch_size):\n",
    "    chunksize = batch_size\n",
    "    while True:\n",
    "        for chunk in pd.read_csv(fileName, chunksize=chunksize,sep=\" \"):\n",
    "            batchFeatures = np.array(chunk.iloc[:,:-1])\n",
    "            batchFeatures = np.reshape(batchFeatures,(batchFeatures.shape[0],25,60)).transpose(0,2,1)\n",
    "            # batchFeatures = batchFeatures[:,:,:,np.newaxis]\n",
    "            batchLabels = np.matrix(chunk.iloc[:,-1]).T\n",
    "            batchLabels = to_categorical(value2int_simple(batchLabels),num_classes=2).astype(\"int\")\n",
    "            batchLabels= np.matrix(batchLabels)\n",
    "            yield batchFeatures,batchLabels\n",
    "\n",
    "training_filenames = Path('../Data/Features/featureMatrix_train.csv')\n",
    "my_training_batch_generator = My_Generator(training_filenames, 10)\n",
    "feature_batch, target_batch = next(my_training_batch_generator)\n",
    "\n",
    "feature_batch_shape = feature_batch.shape[1]\n",
    "feature_batch.shape, target_batch.shape"
   ]
  },
  {
   "cell_type": "code",
   "execution_count": 242,
   "metadata": {},
   "outputs": [
    {
     "name": "stdout",
     "output_type": "stream",
     "text": [
      "<generator object My_Generator at 0x00000153D4D21580>\n",
      "Epoch 1/15\n",
      "99/99 [==============================] - 13s 122ms/step - loss: 0.7418 - acc: 0.5041 - val_loss: 0.6957 - val_acc: 0.4945\n",
      "Epoch 2/15\n",
      "99/99 [==============================] - 13s 135ms/step - loss: 0.7153 - acc: 0.5006 - val_loss: 0.6954 - val_acc: 0.5053\n",
      "Epoch 3/15\n",
      "99/99 [==============================] - 12s 124ms/step - loss: 0.7083 - acc: 0.5038 - val_loss: 0.6943 - val_acc: 0.4941\n",
      "Epoch 4/15\n",
      "99/99 [==============================] - 12s 125ms/step - loss: 0.7056 - acc: 0.5056 - val_loss: 0.6949 - val_acc: 0.5010\n",
      "Epoch 5/15\n",
      "99/99 [==============================] - 12s 117ms/step - loss: 0.7027 - acc: 0.5069 - val_loss: 0.6946 - val_acc: 0.4937\n",
      "Epoch 6/15\n",
      "99/99 [==============================] - 13s 133ms/step - loss: 0.7003 - acc: 0.5148 - val_loss: 0.6949 - val_acc: 0.4967\n",
      "Epoch 7/15\n",
      "99/99 [==============================] - 12s 118ms/step - loss: 0.6950 - acc: 0.5332 - val_loss: 0.6953 - val_acc: 0.4928\n",
      "Epoch 8/15\n",
      "99/99 [==============================] - 12s 124ms/step - loss: 0.6887 - acc: 0.5470 - val_loss: 0.6994 - val_acc: 0.5020\n",
      "Epoch 9/15\n",
      "99/99 [==============================] - 11s 115ms/step - loss: 0.6782 - acc: 0.5642 - val_loss: 0.7157 - val_acc: 0.5048\n",
      "Epoch 10/15\n",
      "99/99 [==============================] - 12s 121ms/step - loss: 0.6693 - acc: 0.5829 - val_loss: 0.7308 - val_acc: 0.5019\n",
      "Epoch 11/15\n",
      "99/99 [==============================] - 12s 120ms/step - loss: 0.6578 - acc: 0.5969 - val_loss: 0.7281 - val_acc: 0.4972\n",
      "Epoch 12/15\n",
      "99/99 [==============================] - 12s 118ms/step - loss: 0.6365 - acc: 0.6258 - val_loss: 0.7518 - val_acc: 0.4959\n",
      "Epoch 13/15\n",
      "99/99 [==============================] - 12s 117ms/step - loss: 0.6139 - acc: 0.6519 - val_loss: 0.7706 - val_acc: 0.5126\n",
      "Epoch 14/15\n",
      "99/99 [==============================] - 12s 121ms/step - loss: 0.5735 - acc: 0.6859 - val_loss: 0.7809 - val_acc: 0.5128\n",
      "Epoch 15/15\n",
      "99/99 [==============================] - 12s 124ms/step - loss: 0.5406 - acc: 0.7144 - val_loss: 0.8414 - val_acc: 0.5018\n"
     ]
    }
   ],
   "source": [
    "batch_size = 512\n",
    "training_filenames = Path('../Data/Features/featureMatrix_train.csv')\n",
    "validation_filenames = Path('../Data/Features/featureMatrix_valid.csv')\n",
    "test_filenames = Path('../Data/Features/featureMatrix_test.csv')\n",
    "num_training_samples = train_length*4//5\n",
    "num_validation_samples = train_length//5\n",
    "num_test_samples = length - train_length\n",
    "\n",
    "\n",
    "# Training and Validation Set Loader\n",
    "my_training_batch_generator = My_Generator(training_filenames, batch_size)\n",
    "my_validation_batch_generator = My_Generator(validation_filenames, batch_size)\n",
    "my_test_batch_generator = My_Generator(test_filenames, batch_size)\n",
    "my_test_batch_generator_one = My_Generator(test_filenames, batch_size)\n",
    "\n",
    "print(my_training_batch_generator)\n",
    "\n",
    "checkpoint_cb = ModelCheckpoint(\n",
    "    model_directory, monitor=\"val_acc\", mode=\"max\", save_best_only=True, save_weights_only=True)\n",
    "\n",
    "\n",
    "modelHistory = model.fit_generator(generator=my_training_batch_generator,\n",
    "                                   steps_per_epoch=(\n",
    "                                       int(np.ceil(num_training_samples / (batch_size)))),\n",
    "                                   epochs=15,\n",
    "                                   verbose=1,\n",
    "                                   validation_data=my_validation_batch_generator,\n",
    "                                   validation_steps=(\n",
    "                                       int(np.ceil(num_validation_samples // (batch_size)))),\n",
    "                                   max_queue_size=32,\n",
    "                                   callbacks=[checkpoint_cb]\n",
    "                                   )\n"
   ]
  },
  {
   "cell_type": "code",
   "execution_count": 244,
   "metadata": {},
   "outputs": [
    {
     "name": "stdout",
     "output_type": "stream",
     "text": [
      "31/31 [==============================] - 3s 85ms/step - loss: 0.8396 - acc: 0.5052\n",
      "test_loss: 0.8396: test_acc: 0.5052\n"
     ]
    },
    {
     "data": {
      "image/png": "[encoded data removed]",
      "text/plain": [
       "<Figure size 432x288 with 1 Axes>"
      ]
     },
     "metadata": {
      "needs_background": "light"
     },
     "output_type": "display_data"
    }
   ],
   "source": [
    "\n",
    "conf = model.evaluate_generator(my_test_batch_generator, steps=(int(np.ceil(num_test_samples/ (batch_size)))),\n",
    "                            use_multiprocessing=False, verbose=1)\n",
    "# print(conf)\n",
    "print(f\"test_loss: {conf[0]:.4f}: test_acc: {conf[1]:.4f}\")\n",
    "# conf = model.predict_generator(my_test_batch_generator_one, steps=(int(np.ceil(num_test_samples/ (batch_size)))), use_multiprocessing=False, verbose=1)\n",
    "# print(conf)\n",
    "\n",
    "# model_json = model.to_json()\n",
    "# with open(\"./input/model.json\", \"w\") as json_file:\n",
    "#     json_file.write(model_json)\n",
    "# # serialize weights to HDF5\n",
    "# model.save_weights(\"./input/model.h5\")\n",
    "# print(\"Saved model to disk\")\n",
    "\n",
    "# print(modelHistory.history.keys())\n",
    "plt.plot(modelHistory.history['loss'])\n",
    "plt.plot(modelHistory.history['val_loss'])\n",
    "plt.title('model_loss')\n",
    "plt.xlabel('epoch')\n",
    "plt.ylabel('loss')\n",
    "plt.legend(['train','validation'],loc='upper left')\n",
    "plt.show()\n",
    "\n"
   ]
  },
  {
   "cell_type": "code",
   "execution_count": 245,
   "metadata": {},
   "outputs": [
    {
     "data": {
      "text/html": [
       "<div>\n",
       "<style scoped>\n",
       "    .dataframe tbody tr th:only-of-type {\n",
       "        vertical-align: middle;\n",
       "    }\n",
       "\n",
       "    .dataframe tbody tr th {\n",
       "        vertical-align: top;\n",
       "    }\n",
       "\n",
       "    .dataframe thead th {\n",
       "        text-align: right;\n",
       "    }\n",
       "</style>\n",
       "<table border=\"1\" class=\"dataframe\">\n",
       "  <thead>\n",
       "    <tr style=\"text-align: right;\">\n",
       "      <th></th>\n",
       "      <th>train_loss</th>\n",
       "      <th>train_acc</th>\n",
       "      <th>test_loss</th>\n",
       "      <th>test_acc</th>\n",
       "    </tr>\n",
       "  </thead>\n",
       "  <tbody>\n",
       "    <tr>\n",
       "      <th>Benchmark</th>\n",
       "      <td>NaN</td>\n",
       "      <td>NaN</td>\n",
       "      <td>8.045407</td>\n",
       "      <td>0.500846</td>\n",
       "    </tr>\n",
       "    <tr>\n",
       "      <th>CNN</th>\n",
       "      <td>0.7298</td>\n",
       "      <td>0.5086</td>\n",
       "      <td>0.723500</td>\n",
       "      <td>0.510300</td>\n",
       "    </tr>\n",
       "    <tr>\n",
       "      <th>simpleRNN</th>\n",
       "      <td>0.7809</td>\n",
       "      <td>0.5128</td>\n",
       "      <td>0.839600</td>\n",
       "      <td>0.505200</td>\n",
       "    </tr>\n",
       "    <tr>\n",
       "      <th>simpleLSTM</th>\n",
       "      <td>0.7123</td>\n",
       "      <td>0.5108</td>\n",
       "      <td>0.712900</td>\n",
       "      <td>0.503500</td>\n",
       "    </tr>\n",
       "  </tbody>\n",
       "</table>\n",
       "</div>"
      ],
      "text/plain": [
       "            train_loss  train_acc  test_loss  test_acc\n",
       "Benchmark          NaN        NaN   8.045407  0.500846\n",
       "CNN             0.7298     0.5086   0.723500  0.510300\n",
       "simpleRNN       0.7809     0.5128   0.839600  0.505200\n",
       "simpleLSTM      0.7123     0.5108   0.712900  0.503500"
      ]
     },
     "execution_count": 245,
     "metadata": {},
     "output_type": "execute_result"
    }
   ],
   "source": [
    "df_results.loc['simpleRNN', [\"train_loss\",\"train_acc\",\"test_loss\",\"test_acc\"]] = [0.7809, 0.5128, 0.8396, 0.5052]\n",
    "df_results"
   ]
  },
  {
   "cell_type": "code",
   "execution_count": null,
   "metadata": {},
   "outputs": [],
   "source": []
  },
  {
   "cell_type": "markdown",
   "metadata": {},
   "source": [
    "\n",
    "Model3:  SimpleLSTM"
   ]
  },
  {
   "cell_type": "code",
   "execution_count": 228,
   "metadata": {},
   "outputs": [
    {
     "name": "stdout",
     "output_type": "stream",
     "text": [
      "Model: \"sequential_55\"\n",
      "_________________________________________________________________\n",
      " Layer (type)                Output Shape              Param #   \n",
      "=================================================================\n",
      " lstm_28 (LSTM)              (None, 60, 64)            23040     \n",
      "                                                                 \n",
      " lstm_29 (LSTM)              (None, 60, 64)            33024     \n",
      "                                                                 \n",
      " flatten_53 (Flatten)        (None, 3840)              0         \n",
      "                                                                 \n",
      " dense_211 (Dense)           (None, 128)               491648    \n",
      "                                                                 \n",
      " batch_normalization_168 (Ba  (None, 128)              512       \n",
      " tchNormalization)                                               \n",
      "                                                                 \n",
      " dropout_159 (Dropout)       (None, 128)               0         \n",
      "                                                                 \n",
      " dense_212 (Dense)           (None, 64)                8256      \n",
      "                                                                 \n",
      " batch_normalization_169 (Ba  (None, 64)               256       \n",
      " tchNormalization)                                               \n",
      "                                                                 \n",
      " dropout_160 (Dropout)       (None, 64)                0         \n",
      "                                                                 \n",
      " dense_213 (Dense)           (None, 16)                1040      \n",
      "                                                                 \n",
      " batch_normalization_170 (Ba  (None, 16)               64        \n",
      " tchNormalization)                                               \n",
      "                                                                 \n",
      " dropout_161 (Dropout)       (None, 16)                0         \n",
      "                                                                 \n",
      " dense_214 (Dense)           (None, 2)                 34        \n",
      "                                                                 \n",
      "=================================================================\n",
      "Total params: 557,874\n",
      "Trainable params: 557,458\n",
      "Non-trainable params: 416\n",
      "_________________________________________________________________\n"
     ]
    }
   ],
   "source": [
    "model_name = \"SimpleLSTM\"\n",
    "model_directory = Path(f'../Data/Model/{model_name}')\n",
    "model_directory.mkdir(exist_ok=True)\n",
    "\n",
    "def SimpleLSTM():\n",
    "    model = Sequential()\n",
    "    # model.add(Input(shape=(None, 60, 25)))\n",
    "    model.add(LSTM(64, return_sequences=True, input_shape=(60, 25)))\n",
    "    # model.add(LSTM(64, return_sequences=True))\n",
    "    model.add(LSTM(64, return_sequences=True))\n",
    "    # model.add(BatchNormalization(axis=-1))\n",
    "    # model.add(LSTM(128,return_sequences=True,activation='relu'))\n",
    "    # model.add(BatchNormalization(axis=-1))\n",
    "    model.add(Flatten())\n",
    "    model.add(Dense(128, activation='swish'))\n",
    "    model.add(BatchNormalization(axis=-1))\n",
    "    model.add(Dropout(0.1))\n",
    "    model.add(Dense(64, activation='swish'))\n",
    "    model.add(BatchNormalization(axis=-1))\n",
    "    model.add(Dropout(0.1))\n",
    "    model.add(Dense(16, activation='swish'))\n",
    "    model.add(BatchNormalization(axis=-1))\n",
    "    model.add(Dropout(0.1))\n",
    "    model.add(Dense(2, activation='softmax'))\n",
    "    adam = tf.keras.optimizers.Adam(learning_rate=0.001)\n",
    "    model.compile(loss='categorical_crossentropy',\n",
    "                  optimizer=adam, metrics=['acc'])\n",
    "    return model\n",
    "\n",
    "\n",
    "model = SimpleLSTM()\n",
    "model.summary()\n"
   ]
  },
  {
   "cell_type": "code",
   "execution_count": 229,
   "metadata": {},
   "outputs": [
    {
     "data": {
      "text/plain": [
       "((10, 60, 25), (10, 2))"
      ]
     },
     "execution_count": 229,
     "metadata": {},
     "output_type": "execute_result"
    }
   ],
   "source": [
    "def My_Generator(fileName,batch_size):\n",
    "    chunksize = batch_size\n",
    "    while True:\n",
    "        for chunk in pd.read_csv(fileName, chunksize=chunksize,sep=\" \"):\n",
    "            batchFeatures = np.array(chunk.iloc[:,:-1])\n",
    "            batchFeatures = np.reshape(batchFeatures,(batchFeatures.shape[0],25,60)).transpose(0,2,1)\n",
    "            # batchFeatures = batchFeatures[:,:,:,np.newaxis]\n",
    "            batchLabels = np.matrix(chunk.iloc[:,-1]).T\n",
    "            batchLabels = to_categorical(value2int_simple(batchLabels),num_classes=2).astype(\"int\")\n",
    "            batchLabels= np.matrix(batchLabels)\n",
    "            yield batchFeatures,batchLabels\n",
    "\n",
    "training_filenames = Path('../Data/Features/featureMatrix_train.csv')\n",
    "my_training_batch_generator = My_Generator(training_filenames, 10)\n",
    "feature_batch, target_batch = next(my_training_batch_generator)\n",
    "\n",
    "feature_batch_shape = feature_batch.shape[1]\n",
    "feature_batch.shape, target_batch.shape"
   ]
  },
  {
   "cell_type": "code",
   "execution_count": 230,
   "metadata": {},
   "outputs": [
    {
     "name": "stdout",
     "output_type": "stream",
     "text": [
      "<generator object My_Generator at 0x000001536D858820>\n",
      "Epoch 1/15\n",
      "99/99 [==============================] - 13s 116ms/step - loss: 0.7571 - acc: 0.5022 - val_loss: 0.7027 - val_acc: 0.5005\n",
      "Epoch 2/15\n",
      "99/99 [==============================] - 11s 109ms/step - loss: 0.7209 - acc: 0.5059 - val_loss: 0.6949 - val_acc: 0.5014\n",
      "Epoch 3/15\n",
      "99/99 [==============================] - 11s 113ms/step - loss: 0.7120 - acc: 0.5084 - val_loss: 0.6968 - val_acc: 0.5048\n",
      "Epoch 4/15\n",
      "99/99 [==============================] - 11s 109ms/step - loss: 0.7069 - acc: 0.5130 - val_loss: 0.6957 - val_acc: 0.5015\n",
      "Epoch 5/15\n",
      "99/99 [==============================] - 11s 110ms/step - loss: 0.7033 - acc: 0.5169 - val_loss: 0.6974 - val_acc: 0.5000\n",
      "Epoch 6/15\n",
      "99/99 [==============================] - 11s 109ms/step - loss: 0.6989 - acc: 0.5206 - val_loss: 0.6967 - val_acc: 0.4996\n",
      "Epoch 7/15\n",
      "99/99 [==============================] - 11s 112ms/step - loss: 0.6957 - acc: 0.5306 - val_loss: 0.6966 - val_acc: 0.4945\n",
      "Epoch 8/15\n",
      "99/99 [==============================] - 11s 113ms/step - loss: 0.6921 - acc: 0.5362 - val_loss: 0.6962 - val_acc: 0.5019\n",
      "Epoch 9/15\n",
      "99/99 [==============================] - 11s 111ms/step - loss: 0.6884 - acc: 0.5426 - val_loss: 0.6967 - val_acc: 0.5035\n",
      "Epoch 10/15\n",
      "99/99 [==============================] - 11s 111ms/step - loss: 0.6888 - acc: 0.5414 - val_loss: 0.6992 - val_acc: 0.5025\n",
      "Epoch 11/15\n",
      "99/99 [==============================] - 11s 109ms/step - loss: 0.6844 - acc: 0.5503 - val_loss: 0.7027 - val_acc: 0.4952\n",
      "Epoch 12/15\n",
      "99/99 [==============================] - 11s 113ms/step - loss: 0.6815 - acc: 0.5568 - val_loss: 0.7042 - val_acc: 0.5001\n",
      "Epoch 13/15\n",
      "99/99 [==============================] - 11s 109ms/step - loss: 0.6784 - acc: 0.5630 - val_loss: 0.7064 - val_acc: 0.4988\n",
      "Epoch 14/15\n",
      "99/99 [==============================] - 11s 111ms/step - loss: 0.6730 - acc: 0.5751 - val_loss: 0.7068 - val_acc: 0.5108\n",
      "Epoch 15/15\n",
      "99/99 [==============================] - 11s 108ms/step - loss: 0.6668 - acc: 0.5851 - val_loss: 0.7123 - val_acc: 0.5002\n"
     ]
    }
   ],
   "source": [
    "batch_size = 512\n",
    "training_filenames = Path('../Data/Features/featureMatrix_train.csv')\n",
    "validation_filenames = Path('../Data/Features/featureMatrix_valid.csv')\n",
    "test_filenames = Path('../Data/Features/featureMatrix_test.csv')\n",
    "num_training_samples = train_length*4//5\n",
    "num_validation_samples = train_length//5\n",
    "num_test_samples = length - train_length\n",
    "\n",
    "\n",
    "# Training and Validation Set Loader\n",
    "my_training_batch_generator = My_Generator(training_filenames, batch_size)\n",
    "my_validation_batch_generator = My_Generator(validation_filenames, batch_size)\n",
    "my_test_batch_generator = My_Generator(test_filenames, batch_size)\n",
    "my_test_batch_generator_one = My_Generator(test_filenames, batch_size)\n",
    "\n",
    "print(my_training_batch_generator)\n",
    "\n",
    "checkpoint_cb = ModelCheckpoint(\n",
    "    model_directory, monitor=\"val_acc\", mode=\"max\", save_best_only=True, save_weights_only=True)\n",
    "\n",
    "\n",
    "modelHistory = model.fit_generator(generator=my_training_batch_generator,\n",
    "                                   steps_per_epoch=(\n",
    "                                       int(np.ceil(num_training_samples / (batch_size)))),\n",
    "                                   epochs=15,\n",
    "                                   verbose=1,\n",
    "                                   validation_data=my_validation_batch_generator,\n",
    "                                   validation_steps=(\n",
    "                                       int(np.ceil(num_validation_samples // (batch_size)))),\n",
    "                                   max_queue_size=32,\n",
    "                                   callbacks=[checkpoint_cb]\n",
    "                                   )\n"
   ]
  },
  {
   "cell_type": "code",
   "execution_count": 231,
   "metadata": {},
   "outputs": [
    {
     "name": "stdout",
     "output_type": "stream",
     "text": [
      "31/31 [==============================] - 3s 85ms/step - loss: 0.7129 - acc: 0.5035\n",
      "test_loss: 0.7129: test_acc: 0.5035\n"
     ]
    },
    {
     "data": {
      "image/png": "[encoded data removed]",
      "text/plain": [
       "<Figure size 432x288 with 1 Axes>"
      ]
     },
     "metadata": {
      "needs_background": "light"
     },
     "output_type": "display_data"
    }
   ],
   "source": [
    "\n",
    "conf = model.evaluate_generator(my_test_batch_generator, steps=(int(np.ceil(num_test_samples/ (batch_size)))),\n",
    "                            use_multiprocessing=False, verbose=1)\n",
    "# print(conf)\n",
    "print(f\"test_loss: {conf[0]:.4f}: test_acc: {conf[1]:.4f}\")\n",
    "# conf = model.predict_generator(my_test_batch_generator_one, steps=(int(np.ceil(num_test_samples/ (batch_size)))), use_multiprocessing=False, verbose=1)\n",
    "# print(conf)\n",
    "\n",
    "# model_json = model.to_json()\n",
    "# with open(\"./input/model.json\", \"w\") as json_file:\n",
    "#     json_file.write(model_json)\n",
    "# # serialize weights to HDF5\n",
    "# model.save_weights(\"./input/model.h5\")\n",
    "# print(\"Saved model to disk\")\n",
    "\n",
    "# print(modelHistory.history.keys())\n",
    "plt.plot(modelHistory.history['loss'])\n",
    "plt.plot(modelHistory.history['val_loss'])\n",
    "plt.title('model_loss')\n",
    "plt.xlabel('epoch')\n",
    "plt.ylabel('loss')\n",
    "plt.legend(['train','validation'],loc='upper left')\n",
    "plt.show()\n",
    "\n"
   ]
  },
  {
   "cell_type": "code",
   "execution_count": 232,
   "metadata": {},
   "outputs": [
    {
     "data": {
      "text/html": [
       "<div>\n",
       "<style scoped>\n",
       "    .dataframe tbody tr th:only-of-type {\n",
       "        vertical-align: middle;\n",
       "    }\n",
       "\n",
       "    .dataframe tbody tr th {\n",
       "        vertical-align: top;\n",
       "    }\n",
       "\n",
       "    .dataframe thead th {\n",
       "        text-align: right;\n",
       "    }\n",
       "</style>\n",
       "<table border=\"1\" class=\"dataframe\">\n",
       "  <thead>\n",
       "    <tr style=\"text-align: right;\">\n",
       "      <th></th>\n",
       "      <th>train_loss</th>\n",
       "      <th>train_acc</th>\n",
       "      <th>test_loss</th>\n",
       "      <th>test_acc</th>\n",
       "    </tr>\n",
       "  </thead>\n",
       "  <tbody>\n",
       "    <tr>\n",
       "      <th>Benchmark</th>\n",
       "      <td>NaN</td>\n",
       "      <td>NaN</td>\n",
       "      <td>8.045407</td>\n",
       "      <td>0.500846</td>\n",
       "    </tr>\n",
       "    <tr>\n",
       "      <th>CNN</th>\n",
       "      <td>0.7298</td>\n",
       "      <td>0.5086</td>\n",
       "      <td>0.723500</td>\n",
       "      <td>0.510300</td>\n",
       "    </tr>\n",
       "    <tr>\n",
       "      <th>simpleRNN</th>\n",
       "      <td>1.0097</td>\n",
       "      <td>0.5096</td>\n",
       "      <td>1.097200</td>\n",
       "      <td>0.507300</td>\n",
       "    </tr>\n",
       "    <tr>\n",
       "      <th>simpleLSTM</th>\n",
       "      <td>0.7123</td>\n",
       "      <td>0.5108</td>\n",
       "      <td>0.712900</td>\n",
       "      <td>0.503500</td>\n",
       "    </tr>\n",
       "  </tbody>\n",
       "</table>\n",
       "</div>"
      ],
      "text/plain": [
       "            train_loss  train_acc  test_loss  test_acc\n",
       "Benchmark          NaN        NaN   8.045407  0.500846\n",
       "CNN             0.7298     0.5086   0.723500  0.510300\n",
       "simpleRNN       1.0097     0.5096   1.097200  0.507300\n",
       "simpleLSTM      0.7123     0.5108   0.712900  0.503500"
      ]
     },
     "execution_count": 232,
     "metadata": {},
     "output_type": "execute_result"
    }
   ],
   "source": [
    "df_results.loc['simpleLSTM', [\"train_loss\",\"train_acc\",\"test_loss\",\"test_acc\"]] = [0.7123 , 0.5108, 0.7129, 0.5035]\n",
    "df_results"
   ]
  },
  {
   "cell_type": "code",
   "execution_count": null,
   "metadata": {},
   "outputs": [],
   "source": []
  },
  {
   "cell_type": "markdown",
   "metadata": {},
   "source": [
    "\n",
    "Model4:  BiGRU"
   ]
  },
  {
   "cell_type": "code",
   "execution_count": 246,
   "metadata": {},
   "outputs": [
    {
     "name": "stdout",
     "output_type": "stream",
     "text": [
      "Model: \"sequential_58\"\n",
      "_________________________________________________________________\n",
      " Layer (type)                Output Shape              Param #   \n",
      "=================================================================\n",
      " bidirectional_20 (Bidirecti  (None, 60, 128)          119040    \n",
      " onal)                                                           \n",
      "                                                                 \n",
      " bidirectional_21 (Bidirecti  (None, 60, 64)           74496     \n",
      " onal)                                                           \n",
      "                                                                 \n",
      " batch_normalization_177 (Ba  (None, 60, 64)           256       \n",
      " tchNormalization)                                               \n",
      "                                                                 \n",
      " flatten_56 (Flatten)        (None, 3840)              0         \n",
      "                                                                 \n",
      " dense_223 (Dense)           (None, 128)               491648    \n",
      "                                                                 \n",
      " batch_normalization_178 (Ba  (None, 128)              512       \n",
      " tchNormalization)                                               \n",
      "                                                                 \n",
      " dropout_168 (Dropout)       (None, 128)               0         \n",
      "                                                                 \n",
      " dense_224 (Dense)           (None, 64)                8256      \n",
      "                                                                 \n",
      " batch_normalization_179 (Ba  (None, 64)               256       \n",
      " tchNormalization)                                               \n",
      "                                                                 \n",
      " dropout_169 (Dropout)       (None, 64)                0         \n",
      "                                                                 \n",
      " dense_225 (Dense)           (None, 16)                1040      \n",
      "                                                                 \n",
      " batch_normalization_180 (Ba  (None, 16)               64        \n",
      " tchNormalization)                                               \n",
      "                                                                 \n",
      " dropout_170 (Dropout)       (None, 16)                0         \n",
      "                                                                 \n",
      " dense_226 (Dense)           (None, 2)                 34        \n",
      "                                                                 \n",
      "=================================================================\n",
      "Total params: 695,602\n",
      "Trainable params: 695,058\n",
      "Non-trainable params: 544\n",
      "_________________________________________________________________\n"
     ]
    }
   ],
   "source": [
    "model_name = \"BiGRU\"\n",
    "model_directory = Path(f'../Data/Model/{model_name}/')\n",
    "model_directory.mkdir(exist_ok=True)\n",
    "\n",
    "\n",
    "def BiGRU():\n",
    "    model = Sequential()\n",
    "    model.add(Bidirectional(GRU(128, return_sequences=True, kernel_regularizer='l2'),\n",
    "              input_shape=(60, 25), merge_mode='ave'))\n",
    "    model.add(Bidirectional(GRU(64, return_sequences=True,\n",
    "               kernel_regularizer='l2'), merge_mode='ave'))\n",
    "    model.add(BatchNormalization(axis=-1))\n",
    "    # model.add(LSTM(128,return_sequences=True,activation='relu'))\n",
    "    # model.add(BatchNormalization(axis=-1))\n",
    "    model.add(Flatten())\n",
    "    model.add(Dense(128, activation='swish'))\n",
    "    model.add(BatchNormalization(axis=-1))\n",
    "    model.add(Dropout(0.1))\n",
    "    model.add(Dense(64, activation='swish'))\n",
    "    model.add(BatchNormalization(axis=-1))\n",
    "    model.add(Dropout(0.1))\n",
    "    model.add(Dense(16, activation='swish'))\n",
    "    model.add(BatchNormalization(axis=-1))\n",
    "    model.add(Dropout(0.1))\n",
    "    model.add(Dense(2, activation='softmax'))\n",
    "    adam = tf.keras.optimizers.Adam(learning_rate=0.001)\n",
    "    model.compile(loss='categorical_crossentropy',\n",
    "                  optimizer=adam, metrics=['acc'])\n",
    "    return model\n",
    "\n",
    "\n",
    "model = BiGRU()\n",
    "model.summary()\n"
   ]
  },
  {
   "cell_type": "code",
   "execution_count": 247,
   "metadata": {},
   "outputs": [
    {
     "data": {
      "text/plain": [
       "((10, 60, 25), (10, 2))"
      ]
     },
     "execution_count": 247,
     "metadata": {},
     "output_type": "execute_result"
    }
   ],
   "source": [
    "def My_Generator(fileName,batch_size):\n",
    "    chunksize = batch_size\n",
    "    while True:\n",
    "        for chunk in pd.read_csv(fileName, chunksize=chunksize,sep=\" \"):\n",
    "            batchFeatures = np.array(chunk.iloc[:,:-1])\n",
    "            batchFeatures = np.reshape(batchFeatures,(batchFeatures.shape[0],25,60)).transpose(0,2,1)\n",
    "            # batchFeatures = batchFeatures[:,:,:,np.newaxis]\n",
    "            batchLabels = np.matrix(chunk.iloc[:,-1]).T\n",
    "            batchLabels = to_categorical(value2int_simple(batchLabels),num_classes=2).astype(\"int\")\n",
    "            batchLabels= np.matrix(batchLabels)\n",
    "            yield batchFeatures,batchLabels\n",
    "\n",
    "training_filenames = Path('../Data/Features/featureMatrix_train.csv')\n",
    "my_training_batch_generator = My_Generator(training_filenames, 10)\n",
    "feature_batch, target_batch = next(my_training_batch_generator)\n",
    "\n",
    "feature_batch_shape = feature_batch.shape[1]\n",
    "feature_batch.shape, target_batch.shape"
   ]
  },
  {
   "cell_type": "code",
   "execution_count": 248,
   "metadata": {},
   "outputs": [
    {
     "name": "stdout",
     "output_type": "stream",
     "text": [
      "<generator object My_Generator at 0x00000153C8613190>\n",
      "Epoch 1/15\n",
      "99/99 [==============================] - 16s 125ms/step - loss: 2.4929 - acc: 0.5004 - val_loss: 1.1414 - val_acc: 0.5039\n",
      "Epoch 2/15\n",
      "99/99 [==============================] - 11s 110ms/step - loss: 0.8845 - acc: 0.5037 - val_loss: 0.7323 - val_acc: 0.5058\n",
      "Epoch 3/15\n",
      "99/99 [==============================] - 11s 112ms/step - loss: 0.7277 - acc: 0.5003 - val_loss: 0.7005 - val_acc: 0.4950\n",
      "Epoch 4/15\n",
      "99/99 [==============================] - 11s 111ms/step - loss: 0.7094 - acc: 0.4997 - val_loss: 0.6955 - val_acc: 0.4951\n",
      "Epoch 5/15\n",
      "99/99 [==============================] - 12s 117ms/step - loss: 0.7043 - acc: 0.5051 - val_loss: 0.6975 - val_acc: 0.4950\n",
      "Epoch 6/15\n",
      "99/99 [==============================] - 11s 113ms/step - loss: 0.7012 - acc: 0.5056 - val_loss: 0.6952 - val_acc: 0.5055\n",
      "Epoch 7/15\n",
      "99/99 [==============================] - 11s 110ms/step - loss: 0.7005 - acc: 0.5019 - val_loss: 0.7236 - val_acc: 0.4950\n",
      "Epoch 8/15\n",
      "99/99 [==============================] - 12s 122ms/step - loss: 0.6988 - acc: 0.5020 - val_loss: 0.6946 - val_acc: 0.5002\n",
      "Epoch 9/15\n",
      "99/99 [==============================] - 12s 118ms/step - loss: 0.6966 - acc: 0.5090 - val_loss: 0.6945 - val_acc: 0.4967\n",
      "Epoch 10/15\n",
      "99/99 [==============================] - 11s 115ms/step - loss: 0.6968 - acc: 0.5049 - val_loss: 0.7025 - val_acc: 0.4947\n",
      "Epoch 11/15\n",
      "99/99 [==============================] - 11s 107ms/step - loss: 0.6961 - acc: 0.5059 - val_loss: 0.6952 - val_acc: 0.4976\n",
      "Epoch 12/15\n",
      "99/99 [==============================] - 11s 114ms/step - loss: 0.6953 - acc: 0.5084 - val_loss: 0.6949 - val_acc: 0.4962\n",
      "Epoch 13/15\n",
      "99/99 [==============================] - 11s 113ms/step - loss: 0.6954 - acc: 0.5115 - val_loss: 0.7010 - val_acc: 0.4950\n",
      "Epoch 14/15\n",
      "99/99 [==============================] - 11s 113ms/step - loss: 0.6943 - acc: 0.5144 - val_loss: 0.6977 - val_acc: 0.4955\n",
      "Epoch 15/15\n",
      "99/99 [==============================] - 10s 106ms/step - loss: 0.6970 - acc: 0.5035 - val_loss: 0.7047 - val_acc: 0.4959\n"
     ]
    }
   ],
   "source": [
    "batch_size = 512\n",
    "training_filenames = Path('../Data/Features/featureMatrix_train.csv')\n",
    "validation_filenames = Path('../Data/Features/featureMatrix_valid.csv')\n",
    "test_filenames = Path('../Data/Features/featureMatrix_test.csv')\n",
    "num_training_samples = train_length*4//5\n",
    "num_validation_samples = train_length//5\n",
    "num_test_samples = length - train_length\n",
    "\n",
    "\n",
    "# Training and Validation Set Loader\n",
    "my_training_batch_generator = My_Generator(training_filenames, batch_size)\n",
    "my_validation_batch_generator = My_Generator(validation_filenames, batch_size)\n",
    "my_test_batch_generator = My_Generator(test_filenames, batch_size)\n",
    "my_test_batch_generator_one = My_Generator(test_filenames, batch_size)\n",
    "\n",
    "print(my_training_batch_generator)\n",
    "\n",
    "checkpoint_cb = ModelCheckpoint(\n",
    "    model_directory, monitor=\"val_acc\", mode=\"max\", save_best_only=True, save_weights_only=True)\n",
    "\n",
    "\n",
    "modelHistory = model.fit_generator(generator=my_training_batch_generator,\n",
    "                                   steps_per_epoch=(\n",
    "                                       int(np.ceil(num_training_samples / (batch_size)))),\n",
    "                                   epochs=15,\n",
    "                                   verbose=1,\n",
    "                                   validation_data=my_validation_batch_generator,\n",
    "                                   validation_steps=(\n",
    "                                       int(np.ceil(num_validation_samples // (batch_size)))),\n",
    "                                   max_queue_size=32,\n",
    "                                   callbacks=[checkpoint_cb]\n",
    "                                   )\n"
   ]
  },
  {
   "cell_type": "code",
   "execution_count": 250,
   "metadata": {},
   "outputs": [
    {
     "name": "stdout",
     "output_type": "stream",
     "text": [
      "31/31 [==============================] - 3s 80ms/step - loss: 0.7008 - acc: 0.5153\n",
      "test_loss: 0.7008: test_acc: 0.5153\n"
     ]
    },
    {
     "data": {
      "image/png": "[encoded data removed]",
      "text/plain": [
       "<Figure size 432x288 with 1 Axes>"
      ]
     },
     "metadata": {
      "needs_background": "light"
     },
     "output_type": "display_data"
    }
   ],
   "source": [
    "\n",
    "conf = model.evaluate_generator(my_test_batch_generator, steps=(int(np.ceil(num_test_samples/ (batch_size)))),\n",
    "                            use_multiprocessing=False, verbose=1)\n",
    "# print(conf)\n",
    "print(f\"test_loss: {conf[0]:.4f}: test_acc: {conf[1]:.4f}\")\n",
    "# conf = model.predict_generator(my_test_batch_generator_one, steps=(int(np.ceil(num_test_samples/ (batch_size)))), use_multiprocessing=False, verbose=1)\n",
    "# print(conf)\n",
    "\n",
    "# model_json = model.to_json()\n",
    "# with open(\"./input/model.json\", \"w\") as json_file:\n",
    "#     json_file.write(model_json)\n",
    "# # serialize weights to HDF5\n",
    "# model.save_weights(\"./input/model.h5\")\n",
    "# print(\"Saved model to disk\")\n",
    "\n",
    "# print(modelHistory.history.keys())\n",
    "plt.plot(modelHistory.history['loss'][2:])\n",
    "plt.plot(modelHistory.history['val_loss'][2:])\n",
    "plt.title('model_loss')\n",
    "plt.xlabel('epoch')\n",
    "plt.ylabel('loss')\n",
    "plt.legend(['train','validation'],loc='upper left')\n",
    "plt.show()\n"
   ]
  },
  {
   "cell_type": "code",
   "execution_count": 251,
   "metadata": {},
   "outputs": [
    {
     "data": {
      "text/html": [
       "<div>\n",
       "<style scoped>\n",
       "    .dataframe tbody tr th:only-of-type {\n",
       "        vertical-align: middle;\n",
       "    }\n",
       "\n",
       "    .dataframe tbody tr th {\n",
       "        vertical-align: top;\n",
       "    }\n",
       "\n",
       "    .dataframe thead th {\n",
       "        text-align: right;\n",
       "    }\n",
       "</style>\n",
       "<table border=\"1\" class=\"dataframe\">\n",
       "  <thead>\n",
       "    <tr style=\"text-align: right;\">\n",
       "      <th></th>\n",
       "      <th>train_loss</th>\n",
       "      <th>train_acc</th>\n",
       "      <th>test_loss</th>\n",
       "      <th>test_acc</th>\n",
       "    </tr>\n",
       "  </thead>\n",
       "  <tbody>\n",
       "    <tr>\n",
       "      <th>Benchmark</th>\n",
       "      <td>NaN</td>\n",
       "      <td>NaN</td>\n",
       "      <td>8.045407</td>\n",
       "      <td>0.500846</td>\n",
       "    </tr>\n",
       "    <tr>\n",
       "      <th>CNN</th>\n",
       "      <td>0.7298</td>\n",
       "      <td>0.5086</td>\n",
       "      <td>0.723500</td>\n",
       "      <td>0.510300</td>\n",
       "    </tr>\n",
       "    <tr>\n",
       "      <th>simpleRNN</th>\n",
       "      <td>0.7809</td>\n",
       "      <td>0.5128</td>\n",
       "      <td>0.839600</td>\n",
       "      <td>0.505200</td>\n",
       "    </tr>\n",
       "    <tr>\n",
       "      <th>simpleLSTM</th>\n",
       "      <td>0.7123</td>\n",
       "      <td>0.5108</td>\n",
       "      <td>0.712900</td>\n",
       "      <td>0.503500</td>\n",
       "    </tr>\n",
       "    <tr>\n",
       "      <th>BiGRU</th>\n",
       "      <td>0.6983</td>\n",
       "      <td>0.5058</td>\n",
       "      <td>0.700800</td>\n",
       "      <td>0.515300</td>\n",
       "    </tr>\n",
       "  </tbody>\n",
       "</table>\n",
       "</div>"
      ],
      "text/plain": [
       "            train_loss  train_acc  test_loss  test_acc\n",
       "Benchmark          NaN        NaN   8.045407  0.500846\n",
       "CNN             0.7298     0.5086   0.723500  0.510300\n",
       "simpleRNN       0.7809     0.5128   0.839600  0.505200\n",
       "simpleLSTM      0.7123     0.5108   0.712900  0.503500\n",
       "BiGRU           0.6983     0.5058   0.700800  0.515300"
      ]
     },
     "execution_count": 251,
     "metadata": {},
     "output_type": "execute_result"
    }
   ],
   "source": [
    "df_results.loc['BiGRU', [\"train_loss\",\"train_acc\",\"test_loss\",\"test_acc\"]] = [0.6983, 0.5058, 0.7008, 0.5153]\n",
    "df_results"
   ]
  },
  {
   "cell_type": "code",
   "execution_count": null,
   "metadata": {},
   "outputs": [],
   "source": []
  }
 ],
 "metadata": {
  "interpreter": {
   "hash": "0f7a9a33825dfecea03e96960dd0e15ea8c3952027db0a21912132657b30fd7e"
  },
  "kernelspec": {
   "display_name": "Python 3.9.12 ('tensorflow_gpu')",
   "language": "python",
   "name": "python3"
  },
  "language_info": {
   "codemirror_mode": {
    "name": "ipython",
    "version": 3
   },
   "file_extension": ".py",
   "mimetype": "text/x-python",
   "name": "python",
   "nbconvert_exporter": "python",
   "pygments_lexer": "ipython3",
   "version": "3.9.12"
  },
  "orig_nbformat": 4
 },
 "nbformat": 4,
 "nbformat_minor": 2
}
